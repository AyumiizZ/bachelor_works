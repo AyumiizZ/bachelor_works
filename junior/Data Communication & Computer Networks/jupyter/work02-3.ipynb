{
 "cells": [
  {
   "cell_type": "code",
   "execution_count": 1,
   "metadata": {},
   "outputs": [],
   "source": [
    "LIGHT_SPEED = 3e8\n",
    "DOG_SPEED = 4*1000/3600\n",
    "\n",
    "def method1_time(size):\n",
    "    wireless_time = (size*8)/86\n",
    "    fiber_time = 103/LIGHT_SPEED\n",
    "    sum_time = wireless_time + fiber_time\n",
    "    return sum_time\n",
    "\n",
    "def method2_time(size):\n",
    "    write_time = size/190\n",
    "    distance_time = 103/DOG_SPEED\n",
    "    read_time = size/245\n",
    "    sum_time = write_time + distance_time + read_time\n",
    "    return(sum_time)"
   ]
  },
  {
   "cell_type": "code",
   "execution_count": 2,
   "metadata": {},
   "outputs": [],
   "source": [
    "a = [method1_time(i*0.01) for i in range (0,200000)]\n",
    "b = [method2_time(i*0.01) for i in range (0,200000)]"
   ]
  },
  {
   "cell_type": "code",
   "execution_count": 8,
   "metadata": {},
   "outputs": [
    {
     "name": "stdout",
     "output_type": "stream",
     "text": [
      "1107.82 103.0530235991473 103.05234586466165\n"
     ]
    }
   ],
   "source": [
    "for i in range(0,200000):\n",
    "    if(a[i] > b[i]):\n",
    "        print (i*0.01,a[i],b[i])\n",
    "        break"
   ]
  },
  {
   "cell_type": "code",
   "execution_count": null,
   "metadata": {},
   "outputs": [],
   "source": []
  }
 ],
 "metadata": {
  "kernelspec": {
   "display_name": "Python 3",
   "language": "python",
   "name": "python3"
  },
  "language_info": {
   "codemirror_mode": {
    "name": "ipython",
    "version": 3
   },
   "file_extension": ".py",
   "mimetype": "text/x-python",
   "name": "python",
   "nbconvert_exporter": "python",
   "pygments_lexer": "ipython3",
   "version": "3.6.5"
  }
 },
 "nbformat": 4,
 "nbformat_minor": 2
}
